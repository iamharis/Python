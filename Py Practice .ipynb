{
 "cells": [
  {
   "cell_type": "markdown",
   "metadata": {},
   "source": [
    "#https://www.practicepython.org/exercise/2014/01/29/01-character-input.html"
   ]
  },
  {
   "cell_type": "code",
   "execution_count": 1,
   "metadata": {},
   "outputs": [],
   "source": [
    "#Exercise 1"
   ]
  },
  {
   "cell_type": "code",
   "execution_count": 10,
   "metadata": {},
   "outputs": [
    {
     "name": "stdout",
     "output_type": "stream",
     "text": [
      "Please Enter your Name \tJohn\n",
      "Please Enter your Age \t25\n",
      "John wil become 100 years old in 2093\n"
     ]
    }
   ],
   "source": [
    "n = input('Please Enter your Name \\t')\n",
    "d = input('Please Enter your Age \\t')\n",
    "d = int(d)\n",
    "print(n,'wil become 100 years old in', 2118-d)"
   ]
  },
  {
   "cell_type": "code",
   "execution_count": 14,
   "metadata": {},
   "outputs": [],
   "source": [
    "#Exercise2"
   ]
  },
  {
   "cell_type": "code",
   "execution_count": 11,
   "metadata": {},
   "outputs": [
    {
     "name": "stdout",
     "output_type": "stream",
     "text": [
      "enter a number1\n",
      "It is an odd Number\n",
      "enter a number2\n",
      "It is a even Number\n",
      "enter a number3\n",
      "It is an odd Number\n",
      "enter a number4\n",
      "It is a even Number\n",
      "enter a number5\n",
      "It is an odd Number\n"
     ]
    }
   ],
   "source": [
    "for i in range(5):\n",
    "    A = input('enter a number')\n",
    "    A = int(A)\n",
    "    B = A/2\n",
    "    if A%2 ==0:\n",
    "        print('It is a even Number')\n",
    "    else: \n",
    "        print(\"It is an odd Number\")"
   ]
  },
  {
   "cell_type": "code",
   "execution_count": 12,
   "metadata": {},
   "outputs": [],
   "source": [
    "#Exercise 2b"
   ]
  },
  {
   "cell_type": "code",
   "execution_count": 16,
   "metadata": {},
   "outputs": [
    {
     "name": "stdout",
     "output_type": "stream",
     "text": [
      "\t Enter the number to check\t4\n",
      "\t Enter the number to divide by \t2\n",
      "\t It divides, the Answer is:\t 2.0\n",
      "\t Enter the number to check\t5\n",
      "\t Enter the number to divide by \t6\n",
      "\t It does not divide\n"
     ]
    }
   ],
   "source": [
    "for i in range(2):\n",
    "    A=int(input('\\t Enter the number to check\\t'))\n",
    "    B =int(input('\\t Enter the number to divide by \\t'))\n",
    "    if A%B == 0:\n",
    "        print(\"\\t It divides, the Answer is:\\t\", A/B)\n",
    "    else:\n",
    "        print('\\t It does not divide')"
   ]
  },
  {
   "cell_type": "code",
   "execution_count": 17,
   "metadata": {},
   "outputs": [],
   "source": [
    "#Exercise 3"
   ]
  },
  {
   "cell_type": "code",
   "execution_count": 32,
   "metadata": {},
   "outputs": [],
   "source": [
    "#Creating a fibonacci series\n",
    "A = [1]\n",
    "A. append(A[0]+0)\n",
    "for i in range(1,10):\n",
    "    A.append(A[i]+A[i-1])"
   ]
  },
  {
   "cell_type": "code",
   "execution_count": 36,
   "metadata": {},
   "outputs": [
    {
     "name": "stdout",
     "output_type": "stream",
     "text": [
      "1\n",
      "1\n",
      "2\n",
      "3\n"
     ]
    }
   ],
   "source": [
    "for i in range(len(A)):\n",
    "    if A[i]<5:\n",
    "        print(A[i])"
   ]
  },
  {
   "cell_type": "code",
   "execution_count": 39,
   "metadata": {},
   "outputs": [
    {
     "name": "stdout",
     "output_type": "stream",
     "text": [
      "[1, 1, 2, 3]\n"
     ]
    }
   ],
   "source": [
    "B=[]\n",
    "for i in range(len(A)):\n",
    "    if A[i]<5:\n",
    "        B.append(A[i])\n",
    "\n",
    "print(B)"
   ]
  },
  {
   "cell_type": "code",
   "execution_count": 44,
   "metadata": {},
   "outputs": [
    {
     "name": "stdout",
     "output_type": "stream",
     "text": [
      "\t Enter the Number you want to filter our\t10\n",
      "[1, 1, 2, 3, 5, 8]\n"
     ]
    }
   ],
   "source": [
    "B=[]\n",
    "num = int(input('\\t Enter the Number you want to filter our\\t'))\n",
    "for i in range(len(A)):\n",
    "    if A[i]<num:\n",
    "        B.append(A[i])\n",
    "print(B)"
   ]
  },
  {
   "cell_type": "code",
   "execution_count": 45,
   "metadata": {},
   "outputs": [],
   "source": [
    "#Exercise 4 "
   ]
  },
  {
   "cell_type": "code",
   "execution_count": 51,
   "metadata": {},
   "outputs": [
    {
     "name": "stdout",
     "output_type": "stream",
     "text": [
      "Enter the Number for which you want to find the list of diviors\t60\n",
      "All divisor for 60 is as follow:\n",
      " [1, 2, 3, 4, 5, 6, 10, 12, 15, 20, 30, 60] \n",
      "\n",
      "Enter the Number for which you want to find the list of diviors\t69\n",
      "All divisor for 69 is as follow:\n",
      " [1, 3, 23, 69] \n",
      "\n",
      "Enter the Number for which you want to find the list of diviors\t23\n",
      "All divisor for 23 is as follow:\n",
      " [1, 23] \n",
      "\n"
     ]
    }
   ],
   "source": [
    "for i in range(3):\n",
    "    A = int(input('Enter the Number for which you want to find the list of diviors\\t'))\n",
    "    B=[]\n",
    "    for i in range(1,A+1):\n",
    "        if A%i ==0:\n",
    "            B.append(i)\n",
    "    print('All divisor for',A,'is as follow:\\n',B,'\\n')        "
   ]
  },
  {
   "cell_type": "code",
   "execution_count": 52,
   "metadata": {},
   "outputs": [],
   "source": [
    "#Exercise 5"
   ]
  },
  {
   "cell_type": "code",
   "execution_count": 61,
   "metadata": {},
   "outputs": [
    {
     "name": "stdout",
     "output_type": "stream",
     "text": [
      "Please enter the elements of first List1\n",
      "Please enter the elements of first List2\n",
      "Please enter the elements of first List3\n",
      "Please enter the elements of first List4\n",
      "Please enter the elements of first List5\n",
      "Please enter the elements of first List6\n",
      "Please enter the elements of first List7\n",
      "Please enter the elements of first List8\n",
      "Please enter the elements of first List9\n",
      "Please enter the elements of first List0\n",
      "Please enter the elements of second List1\n",
      "Please enter the elements of second List2\n",
      "Please enter the elements of second List12\n",
      "Please enter the elements of second List14\n",
      "Please enter the elements of second List2\n",
      "Please enter the elements of second List34\n",
      "Please enter the elements of second List54\n",
      "Please enter the elements of second List53\n",
      "Please enter the elements of second List3\n",
      "Please enter the elements of second List8\n",
      "List 1 is \t [1, 2, 3, 4, 5, 6, 7, 8, 9, 0]\n",
      "List 2 is \t [1, 2, 12, 14, 2, 34, 54, 53, 3, 8]\n",
      "[1, 2, 2, 3, 8] \n",
      " [1, 2, 2, 3, 8]\n"
     ]
    }
   ],
   "source": [
    "A = []\n",
    "B = []\n",
    "C = []\n",
    "D = []\n",
    "for i in range(10):\n",
    "    a = int(input(\"Please enter the elements of first List\"))\n",
    "    A.append(a)\n",
    "for i in range(10):\n",
    "    b = int(input(\"Please enter the elements of second List\"))\n",
    "    B.append(b)\n",
    "print('List 1 is \\t',A)\n",
    "print('List 2 is \\t',B)\n",
    "for i in range(len(A)):\n",
    "    for j in range(len(B)):\n",
    "        if A[i]==B[j]:\n",
    "            C.append(B[j])\n",
    "            D.append(A[i])\n",
    "print(C,'\\n',D)            "
   ]
  },
  {
   "cell_type": "code",
   "execution_count": 63,
   "metadata": {},
   "outputs": [],
   "source": [
    "#Exercise 8"
   ]
  },
  {
   "cell_type": "code",
   "execution_count": 1,
   "metadata": {},
   "outputs": [
    {
     "name": "stdout",
     "output_type": "stream",
     "text": [
      "Player 1\t\n",
      "\n",
      "Enter 1 for Rock, 2 for Paper, 3 for Scissors\n",
      "\n",
      "Your Input\t1\n",
      "Player 2\t 3\n",
      "Player 1 wins!!!\n",
      "\n",
      "Player 1\t\n",
      "\n",
      "Enter 1 for Rock, 2 for Paper, 3 for Scissors\n",
      "\n",
      "Your Input\t2\n",
      "Player 2\t 1\n",
      "Player 1 wins!!!\n",
      "\n",
      "Player 1\t\n",
      "\n",
      "Enter 1 for Rock, 2 for Paper, 3 for Scissors\n",
      "\n",
      "Your Input\t3\n",
      "Player 2\t 3\n",
      "Draw\n",
      "\n",
      "Player 1\t\n",
      "\n",
      "Enter 1 for Rock, 2 for Paper, 3 for Scissors\n",
      "\n",
      "Your Input\t4\n",
      "Player 2\t 3\n",
      "Player 1 wins!!!\n",
      "\n"
     ]
    }
   ],
   "source": [
    "a=4\n",
    "import random\n",
    "while(a>0)  :\n",
    "    print('Player 1\\t\\n')\n",
    "    print('Enter 1 for Rock, 2 for Paper, 3 for Scissors\\n')\n",
    "    A = int(input('Your Input\\t'))\n",
    "    B = random.randint(1,3)\n",
    "    print('Player 2\\t',B )\n",
    "    if A==B:\n",
    "        print('Draw\\n')\n",
    "    elif A==1 & B==2|A==2 & B==3|A==3 & B==1 :\n",
    "        print(\"Player 2 Wins!!!\\n\")\n",
    "    else:\n",
    "        print('Player 1 wins!!!\\n')\n",
    "    a-=1    "
   ]
  },
  {
   "cell_type": "code",
   "execution_count": null,
   "metadata": {},
   "outputs": [],
   "source": []
  }
 ],
 "metadata": {
  "kernelspec": {
   "display_name": "Python 3",
   "language": "python",
   "name": "python3"
  },
  "language_info": {
   "codemirror_mode": {
    "name": "ipython",
    "version": 3
   },
   "file_extension": ".py",
   "mimetype": "text/x-python",
   "name": "python",
   "nbconvert_exporter": "python",
   "pygments_lexer": "ipython3",
   "version": "3.6.7"
  }
 },
 "nbformat": 4,
 "nbformat_minor": 2
}
